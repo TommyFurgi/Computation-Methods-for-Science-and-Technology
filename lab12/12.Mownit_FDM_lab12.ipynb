{
 "cells": [
  {
   "cell_type": "markdown",
   "metadata": {},
   "source": [
    "## Lab 12"
   ]
  },
  {
   "cell_type": "markdown",
   "metadata": {},
   "source": [
    "Instrukcje  \n",
    "Metodą różnic skończonych w 2-D proszę rozwiązać (do wyboru):\n",
    "\n",
    "- Przepływ ciepłą na płytce \n",
    "- Drgającą membranę\n",
    "\n",
    "Należy rozwiązać numerycznie równianie dyfuzji/falowe oraz przygotować animacje."
   ]
  }
 ],
 "metadata": {
  "language_info": {
   "name": "python"
  }
 },
 "nbformat": 4,
 "nbformat_minor": 2
}
